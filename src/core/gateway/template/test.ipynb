{
 "cells": [
  {
   "cell_type": "code",
   "execution_count": 4,
   "metadata": {},
   "outputs": [
    {
     "name": "stdout",
     "output_type": "stream",
     "text": [
      "Original: This is 30% of the total & costs $100.\n",
      "Replacing '%' with '\\%'\n",
      "Replacing '&' with '\\&'\n",
      "Replacing '$' with '\\$'\n",
      "Escaped: This is 30\\% of the total \\& costs \\$100.\n",
      "----------------------------------------\n",
      "Original: This is 30\\% of the total \\& costs \\$100.Use \\ as an escape character.\n",
      "Replacing '\\' with '\\textbackslash{}'\n",
      "Replacing '%' with '\\%'\n",
      "Replacing '\\' with '\\textbackslash{}'\n",
      "Replacing '&' with '\\&'\n",
      "Replacing '\\' with '\\textbackslash{}'\n",
      "Replacing '$' with '\\$'\n",
      "Replacing '\\' with '\\textbackslash{}'\n",
      "Escaped: This is 30\\textbackslash{}\\% of the total \\textbackslash{}\\& costs \\textbackslash{}\\$100.Use \\textbackslash{} as an escape character.\n",
      "----------------------------------------\n",
      "Original: Special characters: # _ { } ~ ^\n",
      "Replacing '#' with '\\#'\n",
      "Replacing '_' with '\\_'\n",
      "Replacing '{' with '\\{'\n",
      "Replacing '}' with '\\}'\n",
      "Replacing '~' with '\\textasciitilde{}'\n",
      "Replacing '^' with '\\textasciicircum{}'\n",
      "Escaped: Special characters: \\# \\_ \\{ \\} \\textasciitilde{} \\textasciicircum{}\n",
      "----------------------------------------\n"
     ]
    },
    {
     "name": "stderr",
     "output_type": "stream",
     "text": [
      "<>:35: SyntaxWarning: invalid escape sequence '\\%'\n",
      "<>:35: SyntaxWarning: invalid escape sequence '\\%'\n",
      "/var/folders/4f/hm0zpk6x7glgpys6cl6vrl0r0000gn/T/ipykernel_43862/3144761142.py:35: SyntaxWarning: invalid escape sequence '\\%'\n",
      "  \"This is 30\\% of the total \\& costs \\$100.\"\n"
     ]
    }
   ],
   "source": [
    "import re\n",
    "from typing import Any\n",
    "\n",
    "\n",
    "def escape_latex_str_if_str(value: Any) -> Any:\n",
    "    \"\"\"Escape LaTeX special characters in strings.\"\"\"\n",
    "    if isinstance(value, str):\n",
    "        # Reorder so backslashes are replaced first\n",
    "        latex_special_chars = {\n",
    "            \"\\\\\": r\"\\textbackslash{}\",\n",
    "            \"%\": r\"\\%\",\n",
    "            \"&\": r\"\\&\",\n",
    "            \"$\": r\"\\$\",\n",
    "            \"#\": r\"\\#\",\n",
    "            \"_\": r\"\\_\",\n",
    "            \"{\": r\"\\{\",\n",
    "            \"}\": r\"\\}\",\n",
    "            \"~\": r\"\\textasciitilde{}\",\n",
    "            \"^\": r\"\\textasciicircum{}\",\n",
    "        }\n",
    "        pattern = re.compile(r\"(\\\\|%|&|\\$|#|_|{|}|~|\\^)\")\n",
    "\n",
    "        def replacer(match):\n",
    "            original = match.group()\n",
    "            replaced = latex_special_chars[original]\n",
    "            print(f\"Replacing '{original}' with '{replaced}'\")  # Debugging output\n",
    "            return replaced\n",
    "\n",
    "        return pattern.sub(replacer, value)\n",
    "    return value\n",
    "\n",
    "\n",
    "# Test cases\n",
    "test_strings = [\n",
    "    \"This is 30% of the total & costs $100.\",\n",
    "    \"This is 30\\% of the total \\& costs \\$100.\" \"Use \\\\ as an escape character.\",\n",
    "    \"Special characters: # _ { } ~ ^\",\n",
    "]\n",
    "\n",
    "for test_str in test_strings:\n",
    "    print(f\"Original: {test_str}\")\n",
    "    escaped_str = escape_latex_str_if_str(test_str)\n",
    "    print(f\"Escaped: {escaped_str}\")\n",
    "    print(\"-\" * 40)"
   ]
  }
 ],
 "metadata": {
  "kernelspec": {
   "display_name": ".venv",
   "language": "python",
   "name": "python3"
  },
  "language_info": {
   "codemirror_mode": {
    "name": "ipython",
    "version": 3
   },
   "file_extension": ".py",
   "mimetype": "text/x-python",
   "name": "python",
   "nbconvert_exporter": "python",
   "pygments_lexer": "ipython3",
   "version": "3.12.7"
  }
 },
 "nbformat": 4,
 "nbformat_minor": 2
}
